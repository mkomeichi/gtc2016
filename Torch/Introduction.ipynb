{
 "cells": [
  {
   "cell_type": "markdown",
   "metadata": {},
   "source": [
    "This directory contain ipython notebooks for the GTC 2015 Theano hands-on lab:\n",
    "\n",
    "- Introduction (this notebook): introductory notebook\n",
    "- Exercices: notebook that contain exercices specific to Theano without machine learning\n",
    "- lenet: notebook that demonstrates the LeNet (basic convolutional example) model\n",
    "\n",
    "The slides are available at https://github.com/nouiz/gtc2016/raw/master/S6116_FredericBastien.pdf\n",
    "\n",
    "The GitHub repository: https://github.com/nouiz/gtc2016\n",
    "\n",
    "See the top of the notebook for explanation regarding how they should be used.\n",
    "\n",
    "You can run a cell that contains code with CTRL-enter when that cell is selected"
   ]
  }
 ],
 "metadata": {
  "kernelspec": {
   "display_name": "Python 2",
   "language": "python",
   "name": "python2"
  },
  "language_info": {
   "codemirror_mode": {
    "name": "ipython",
    "version": 2
   },
   "file_extension": ".py",
   "mimetype": "text/x-python",
   "name": "python",
   "nbconvert_exporter": "python",
   "pygments_lexer": "ipython2",
   "version": "2.7.11"
  }
 },
 "nbformat": 4,
 "nbformat_minor": 0
}
